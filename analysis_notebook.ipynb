{
 "cells": [
  {
   "cell_type": "code",
   "execution_count": null,
   "metadata": {
    "vscode": {
     "languageId": "plaintext"
    }
   },
   "outputs": [],
   "source": [
    "import pandas as pd\n",
    "import matplotlib.pyplot as plt\n",
    "import seaborn as sns\n",
    "\n",
    "# Load the dataset\n",
    "try:\n",
    "    df = pd.read_csv('dataset.csv')  # Replace with your actual dataset path\n",
    "    print(\"Dataset loaded successfully!\")\n",
    "except FileNotFoundError:\n",
    "    print(\"File not found. Please check the file path.\")\n",
    "\n",
    "# Display the first few rows to inspect the data\n",
    "print(df.head())\n",
    "\n",
    "# Explore the dataset structure\n",
    "print(\"\\nDataset Info:\")\n",
    "print(df.info())  # Check data types and missing values\n",
    "\n",
    "# Clean the dataset: Handle missing values (you can fill or drop)\n",
    "df = df.dropna()  # Drop rows with missing values (or you can use df.fillna() to fill them)\n",
    "\n",
    "# Task 2: Basic Data Analysis\n",
    "\n",
    "# Compute basic statistics of numerical columns\n",
    "print(\"\\nBasic Statistics of the dataset:\")\n",
    "print(df.describe())\n",
    "\n",
    "# Perform groupings by a categorical column (e.g., region) and compute the mean of a numerical column (e.g., sales)\n",
    "print(\"\\nAverage Sales per Region:\")\n",
    "print(df.groupby('region')['sales'].mean())\n",
    "\n",
    "# Task 3: Data Visualization\n",
    "\n",
    "# Line chart: Show trends over time (for example, time-series data if you have a 'date' column)\n",
    "plt.figure(figsize=(10, 6))\n",
    "df['date'] = pd.to_datetime(df['date'])  # Ensure 'date' is in datetime format\n",
    "plt.plot(df['date'], df['sales'], marker='o', color='b')\n",
    "plt.title('Sales Trend Over Time')\n",
    "plt.xlabel('Date')\n",
    "plt.ylabel('Sales')\n",
    "plt.xticks(rotation=45)\n",
    "plt.grid(True)\n",
    "plt.show()\n",
    "\n",
    "# Bar chart: Comparison of a numerical value across categories (e.g., average sales per region)\n",
    "plt.figure(figsize=(8, 6))\n",
    "df.groupby('region')['sales'].mean().plot(kind='bar', color='skyblue')\n",
    "plt.title('Average Sales per Region')\n",
    "plt.xlabel('Region')\n",
    "plt.ylabel('Average Sales')\n",
    "plt.xticks(rotation=45)\n",
    "plt.show()\n",
    "\n",
    "# Histogram: Distribution of a numerical column (e.g., sales)\n",
    "plt.figure(figsize=(8, 6))\n",
    "df['sales'].hist(bins=20, color='lightcoral')\n",
    "plt.title('Distribution of Sales')\n",
    "plt.xlabel('Sales')\n",
    "plt.ylabel('Frequency')\n",
    "plt.show()\n",
    "\n",
    "# Scatter plot: Relationship between two numerical columns (e.g., sales vs. date)\n",
    "plt.figure(figsize=(8, 6))\n",
    "sns.scatterplot(x='date', y='sales', data=df, color='red')\n",
    "plt.title('Sales vs Date')\n",
    "plt.xlabel('Date')\n",
    "plt.ylabel('Sales')\n",
    "plt.xticks(rotation=45)\n",
    "plt.show()\n"
   ]
  },
  {
   "cell_type": "code",
   "execution_count": null,
   "metadata": {
    "vscode": {
     "languageId": "plaintext"
    }
   },
   "outputs": [],
   "source": []
  }
 ],
 "metadata": {
  "language_info": {
   "name": "python"
  }
 },
 "nbformat": 4,
 "nbformat_minor": 2
}
